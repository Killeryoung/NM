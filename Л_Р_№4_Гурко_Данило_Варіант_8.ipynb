{
  "nbformat": 4,
  "nbformat_minor": 0,
  "metadata": {
    "colab": {
      "provenance": [],
      "authorship_tag": "ABX9TyPfawheyK+XTiU+sgr642t4",
      "include_colab_link": true
    },
    "kernelspec": {
      "name": "python3",
      "display_name": "Python 3"
    },
    "language_info": {
      "name": "python"
    }
  },
  "cells": [
    {
      "cell_type": "markdown",
      "metadata": {
        "id": "view-in-github",
        "colab_type": "text"
      },
      "source": [
        "<a href=\"https://colab.research.google.com/github/Killeryoung/NM/blob/main/%D0%9B_%D0%A0_%E2%84%964_%D0%93%D1%83%D1%80%D0%BA%D0%BE_%D0%94%D0%B0%D0%BD%D0%B8%D0%BB%D0%BE_%D0%92%D0%B0%D1%80%D1%96%D0%B0%D0%BD%D1%82_8.ipynb\" target=\"_parent\"><img src=\"https://colab.research.google.com/assets/colab-badge.svg\" alt=\"Open In Colab\"/></a>"
      ]
    },
    {
      "cell_type": "markdown",
      "source": [
        "Був присутній на парі."
      ],
      "metadata": {
        "id": "9L-T4N3C5X8k"
      }
    },
    {
      "cell_type": "code",
      "execution_count": 1,
      "metadata": {
        "colab": {
          "base_uri": "https://localhost:8080/"
        },
        "id": "CBik6cDeh8cu",
        "outputId": "e718c801-056c-47e5-a1dd-7ed95fd08740"
      },
      "outputs": [
        {
          "output_type": "stream",
          "name": "stdout",
          "text": [
            "Requirement already satisfied: numpy in /usr/local/lib/python3.12/dist-packages (2.0.2)\n"
          ]
        }
      ],
      "source": [
        "!pip install numpy"
      ]
    },
    {
      "cell_type": "code",
      "source": [
        "import numpy as np\n",
        "np.__version__\n"
      ],
      "metadata": {
        "colab": {
          "base_uri": "https://localhost:8080/",
          "height": 35
        },
        "id": "kf7FtNX-iOna",
        "outputId": "f320c8ce-7592-4db4-e0c7-b0c3be41b659"
      },
      "execution_count": 2,
      "outputs": [
        {
          "output_type": "execute_result",
          "data": {
            "text/plain": [
              "'2.0.2'"
            ],
            "application/vnd.google.colaboratory.intrinsic+json": {
              "type": "string"
            }
          },
          "metadata": {},
          "execution_count": 2
        }
      ]
    },
    {
      "cell_type": "code",
      "source": [
        "matrix = np.random.randint(1, 6, size=(3, 3))\n",
        "\n",
        "matrix"
      ],
      "metadata": {
        "colab": {
          "base_uri": "https://localhost:8080/"
        },
        "id": "CPBrivz5i56a",
        "outputId": "a0d68132-2a4f-41bb-a7d3-03a309f59e11"
      },
      "execution_count": 3,
      "outputs": [
        {
          "output_type": "execute_result",
          "data": {
            "text/plain": [
              "array([[1, 4, 1],\n",
              "       [1, 3, 3],\n",
              "       [2, 4, 2]])"
            ]
          },
          "metadata": {},
          "execution_count": 3
        }
      ]
    },
    {
      "cell_type": "code",
      "source": [
        "np.linalg.det(matrix)"
      ],
      "metadata": {
        "colab": {
          "base_uri": "https://localhost:8080/"
        },
        "id": "gGIdyeBWjMwy",
        "outputId": "562c884f-96ac-4200-a88b-26d946bf93a6"
      },
      "execution_count": 23,
      "outputs": [
        {
          "output_type": "execute_result",
          "data": {
            "text/plain": [
              "np.float64(7.999999999999998)"
            ]
          },
          "metadata": {},
          "execution_count": 23
        }
      ]
    },
    {
      "cell_type": "code",
      "source": [
        "np.prod(matrix)"
      ],
      "metadata": {
        "colab": {
          "base_uri": "https://localhost:8080/"
        },
        "id": "jYjGkF8bpLdb",
        "outputId": "95ad6e09-e29a-4adf-d973-f441a896da2c"
      },
      "execution_count": 17,
      "outputs": [
        {
          "output_type": "execute_result",
          "data": {
            "text/plain": [
              "np.int64(576)"
            ]
          },
          "metadata": {},
          "execution_count": 17
        }
      ]
    },
    {
      "cell_type": "code",
      "source": [
        "prod_1 = np.prod(matrix[0])\n",
        "prod_2 = np.prod(matrix[1])\n",
        "prod_3 = np.prod(matrix[2])\n",
        "prod_1*prod_2*prod_3"
      ],
      "metadata": {
        "colab": {
          "base_uri": "https://localhost:8080/"
        },
        "id": "nWjCUjdopeKq",
        "outputId": "ad278682-9684-40ed-b4b1-0c8448c6dce6"
      },
      "execution_count": 6,
      "outputs": [
        {
          "output_type": "execute_result",
          "data": {
            "text/plain": [
              "np.int64(576)"
            ]
          },
          "metadata": {},
          "execution_count": 6
        }
      ]
    },
    {
      "cell_type": "code",
      "source": [
        "np.sum(matrix)"
      ],
      "metadata": {
        "colab": {
          "base_uri": "https://localhost:8080/"
        },
        "id": "lWfd60k-p-MT",
        "outputId": "40be8fed-d321-43c7-ac26-62e9e34f93ae"
      },
      "execution_count": 18,
      "outputs": [
        {
          "output_type": "execute_result",
          "data": {
            "text/plain": [
              "np.int64(21)"
            ]
          },
          "metadata": {},
          "execution_count": 18
        }
      ]
    },
    {
      "cell_type": "code",
      "source": [
        "np.max(matrix)"
      ],
      "metadata": {
        "colab": {
          "base_uri": "https://localhost:8080/"
        },
        "id": "xvG_5tR6qDvb",
        "outputId": "ac2be7d2-0f3a-4294-f4b6-839cfa9c594c"
      },
      "execution_count": 19,
      "outputs": [
        {
          "output_type": "execute_result",
          "data": {
            "text/plain": [
              "np.int64(4)"
            ]
          },
          "metadata": {},
          "execution_count": 19
        }
      ]
    },
    {
      "cell_type": "code",
      "source": [
        "np.min(matrix)"
      ],
      "metadata": {
        "colab": {
          "base_uri": "https://localhost:8080/"
        },
        "id": "xc6a5M7gqmZb",
        "outputId": "c6ad90ef-75ab-4574-ef17-fe33ad104f52"
      },
      "execution_count": 20,
      "outputs": [
        {
          "output_type": "execute_result",
          "data": {
            "text/plain": [
              "np.int64(1)"
            ]
          },
          "metadata": {},
          "execution_count": 20
        }
      ]
    },
    {
      "cell_type": "code",
      "source": [
        "np.mean(matrix)"
      ],
      "metadata": {
        "colab": {
          "base_uri": "https://localhost:8080/"
        },
        "id": "A6ZJOkZoryob",
        "outputId": "b55dca3e-c77f-4c78-8575-6f58f3531d09"
      },
      "execution_count": 21,
      "outputs": [
        {
          "output_type": "execute_result",
          "data": {
            "text/plain": [
              "np.float64(2.3333333333333335)"
            ]
          },
          "metadata": {},
          "execution_count": 21
        }
      ]
    },
    {
      "cell_type": "code",
      "source": [
        "np.sqrt(matrix)"
      ],
      "metadata": {
        "colab": {
          "base_uri": "https://localhost:8080/"
        },
        "id": "m9MPDIfysP5j",
        "outputId": "620b6efc-16fe-4a39-b82d-f2b1b730c795"
      },
      "execution_count": 22,
      "outputs": [
        {
          "output_type": "execute_result",
          "data": {
            "text/plain": [
              "array([[1.        , 2.        , 1.        ],\n",
              "       [1.        , 1.73205081, 1.73205081],\n",
              "       [1.41421356, 2.        , 1.41421356]])"
            ]
          },
          "metadata": {},
          "execution_count": 22
        }
      ]
    },
    {
      "cell_type": "code",
      "source": [
        "np.sum(matrix, axis=1).reshape(-1,1)"
      ],
      "metadata": {
        "colab": {
          "base_uri": "https://localhost:8080/"
        },
        "id": "aXZWo0Q2sqdb",
        "outputId": "8451fbfc-510d-4062-c0c3-aba2f3b40dc8"
      },
      "execution_count": 24,
      "outputs": [
        {
          "output_type": "execute_result",
          "data": {
            "text/plain": [
              "array([[6],\n",
              "       [7],\n",
              "       [8]])"
            ]
          },
          "metadata": {},
          "execution_count": 24
        }
      ]
    },
    {
      "cell_type": "code",
      "source": [
        "vector=np.random.randint(0,10, size=25)\n",
        "vector"
      ],
      "metadata": {
        "colab": {
          "base_uri": "https://localhost:8080/"
        },
        "id": "gP_O1z4Htf3z",
        "outputId": "c42b3a42-219a-4f0c-fc31-847e4ce82e2c"
      },
      "execution_count": 28,
      "outputs": [
        {
          "output_type": "execute_result",
          "data": {
            "text/plain": [
              "array([9, 0, 6, 1, 6, 2, 9, 1, 6, 7, 5, 6, 0, 8, 9, 0, 9, 2, 9, 8, 6, 2,\n",
              "       0, 5, 6])"
            ]
          },
          "metadata": {},
          "execution_count": 28
        }
      ]
    },
    {
      "cell_type": "code",
      "source": [
        "sort_vector=np.sort(vector)[::-1]\n",
        "sort_vector"
      ],
      "metadata": {
        "colab": {
          "base_uri": "https://localhost:8080/"
        },
        "id": "M7mTeaYatu56",
        "outputId": "115154e2-1ae3-4345-e705-0833d602ce99"
      },
      "execution_count": 32,
      "outputs": [
        {
          "output_type": "execute_result",
          "data": {
            "text/plain": [
              "array([9, 9, 9, 9, 9, 8, 8, 7, 6, 6, 6, 6, 6, 6, 5, 5, 2, 2, 2, 1, 1, 0,\n",
              "       0, 0, 0])"
            ]
          },
          "metadata": {},
          "execution_count": 32
        }
      ]
    },
    {
      "cell_type": "code",
      "source": [
        "a = np.array([[1, 2, -1], [3, 4, 1], [5, 1, -3]])\n",
        "b = np.array([-3, 1, -2])\n",
        "\n",
        "x = np.linalg.solve(a, b)\n",
        "print('Вбудована функція', x1.round(1))\n",
        "\n",
        "inv_a = np.linalg.inv(a)\n",
        "x1 = inv_a.dot(b)\n",
        "print('Матричний метод', x1.round(1))"
      ],
      "metadata": {
        "colab": {
          "base_uri": "https://localhost:8080/"
        },
        "id": "c1jPPaQP3Lej",
        "outputId": "f7d2b023-7b9a-4f98-cd0a-9ce895b99270"
      },
      "execution_count": 35,
      "outputs": [
        {
          "output_type": "stream",
          "name": "stdout",
          "text": [
            "Вбудована функція [ 1. -1.  2.]\n",
            "Матричний метод [ 1. -1.  2.]\n"
          ]
        }
      ]
    },
    {
      "cell_type": "code",
      "source": [
        "# Метод Крамера\n",
        "def kramer(a, b):\n",
        "    det_a = np.linalg.det(a)\n",
        "    if det_a != 0:\n",
        "        solutions = []\n",
        "        for i in range(len(a)):\n",
        "            modified_a = np.copy(a)\n",
        "            modified_a[:, i] = b\n",
        "            solutions.append(round(np.linalg.det(modified_a) / det_a, 1))\n",
        "\n",
        "        print('Solving a system of linear algebraic equations by Cramer\\'s method:')\n",
        "        #print('x =', solutions)\n",
        "\n",
        "    else:\n",
        "        print('Determinant equals zero, the system has no solutions')\n",
        "    return solutions\n",
        "# Виклик функцій для розв'язання системи\n",
        "print(kramer(a, b))"
      ],
      "metadata": {
        "colab": {
          "base_uri": "https://localhost:8080/"
        },
        "id": "umPkd13x43BU",
        "outputId": "bd43e8cf-8bef-42e2-c4f5-c972b8efa615"
      },
      "execution_count": 36,
      "outputs": [
        {
          "output_type": "stream",
          "name": "stdout",
          "text": [
            "Solving a system of linear algebraic equations by Cramer's method:\n",
            "[np.float64(1.0), np.float64(-1.0), np.float64(2.0)]\n"
          ]
        }
      ]
    }
  ]
}